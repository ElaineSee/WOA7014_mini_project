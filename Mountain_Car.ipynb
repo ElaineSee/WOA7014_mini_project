{
  "nbformat": 4,
  "nbformat_minor": 0,
  "metadata": {
    "kernelspec": {
      "display_name": "Python 3",
      "language": "python",
      "name": "python3"
    },
    "language_info": {
      "codemirror_mode": {
        "name": "ipython",
        "version": 3
      },
      "file_extension": ".py",
      "mimetype": "text/x-python",
      "name": "python",
      "nbconvert_exporter": "python",
      "pygments_lexer": "ipython3",
      "version": "3.8.3"
    },
    "colab": {
      "name": "Mountain_Car.ipynb",
      "provenance": [],
      "include_colab_link": true
    }
  },
  "cells": [
    {
      "cell_type": "markdown",
      "metadata": {
        "id": "view-in-github",
        "colab_type": "text"
      },
      "source": [
        "<a href=\"https://colab.research.google.com/github/ElaineSee/WOA7014_mini_project/blob/main/Mountain_Car.ipynb\" target=\"_parent\"><img src=\"https://colab.research.google.com/assets/colab-badge.svg\" alt=\"Open In Colab\"/></a>"
      ]
    },
    {
      "cell_type": "code",
      "metadata": {
        "id": "JqHOtVKDj9QQ",
        "outputId": "165f6efd-fd41-441b-97d5-afb37e028821"
      },
      "source": [
        "%%time\n",
        "import gym\n",
        "env = gym.make('MountainCar-v0')\n",
        "\n",
        "#To see random steps & output\n",
        "#observation = env.reset()\n",
        "#print(\"observation:\", observation)\n",
        "#for t in range(5):\n",
        "#    action = env.action_space.sample()\n",
        "#    print(\"action:\", action)\n",
        "#    observation, reward, done, info = env.step(action)\n",
        "#    print(\"step results:\", observation, reward, done, info)\n",
        "#env.close()\n",
        "import numpy as np\n",
        "import tensorflow as tf\n",
        "from tensorflow import keras\n",
        "from collections import deque\n",
        "\n",
        "%matplotlib inline\n",
        "import matplotlib as mpl\n",
        "import matplotlib.pyplot as plt\n",
        "mpl.rc('axes', labelsize=14)\n",
        "mpl.rc('xtick', labelsize=12)\n",
        "mpl.rc('ytick', labelsize=12)\n",
        "\n",
        "# To get smooth animations\n",
        "import matplotlib.animation as animation\n",
        "mpl.rc('animation', html='jshtml')\n",
        "\n",
        "try:\n",
        "    import pyvirtualdisplay\n",
        "    display = pyvirtualdisplay.Display(visible=0, size=(1400, 900)).start()\n",
        "except ImportError:\n",
        "    pass\n",
        "\n",
        "\n",
        "class DQNagent:\n",
        "\n",
        "    def __init__(self, state_size, action_size, episodes):\n",
        "        self.gamma = 0.95\n",
        "        self.batch_size = 10 #64\n",
        "        self.state_size = state_size\n",
        "        self.action_size = action_size\n",
        "        self.episodes = episodes\n",
        "        self.replay_memory = deque(maxlen=2000)\n",
        "        self.optimizer = tf.keras.optimizers.Adam(lr=0.001) #use Adaptive Moment Estimation optimizer\n",
        "        self.loss_fn = tf.keras.losses.mean_squared_error\n",
        "\n",
        "    #Build neural network\n",
        "    def build_model(self):\n",
        "        model = tf.keras.models.Sequential([\n",
        "            tf.keras.layers.Dense(32, activation=\"relu\", input_shape=[self.state_size]),\n",
        "            tf.keras.layers.Dense(32, activation=\"relu\"),\n",
        "            tf.keras.layers.Dense(self.action_size)\n",
        "        ])\n",
        "        return model\n",
        "    \n",
        "    #Storing information about every step. ie replay memory\n",
        "    def add_memory(self, state, action, reward, next_state, done):\n",
        "        self.replay_memory.append((state, action, reward, next_state, done))\n",
        "        \n",
        "    #Implement training using memory replay from sampled experience, not full set\n",
        "    def sample_experiences(self):\n",
        "        indices = np.random.randint(len(self.replay_memory), size=self.batch_size)\n",
        "        batch = [self.replay_memory[index] for index in indices]\n",
        "        states, actions, rewards, next_states, dones = [\n",
        "            np.array([experience[field_index] for experience in batch])\n",
        "            for field_index in range(5)]\n",
        "        return states, actions, rewards, next_states, dones\n",
        "    \n",
        "    \n",
        "    def train_model(self, model):\n",
        "        states, actions, rewards, next_states, dones = self.sample_experiences()\n",
        "        next_Q_values = model.predict(next_states)\n",
        "        max_next_Q_values = np.max(next_Q_values, axis=1)\n",
        "        target_Q_values = (rewards + (1 - dones) * self.gamma * max_next_Q_values)\n",
        "        target_Q_values = target_Q_values.reshape(-1, 1)\n",
        "        mask = tf.one_hot(actions, self.action_size)\n",
        "        with tf.GradientTape() as tape:\n",
        "            all_Q_values = model(states)\n",
        "            Q_values = tf.reduce_sum(all_Q_values * mask, axis=1, keepdims=True)\n",
        "            loss = tf.reduce_mean(self.loss_fn(target_Q_values, Q_values))\n",
        "        grads = tape.gradient(loss, model.trainable_variables)\n",
        "        self.optimizer.apply_gradients(zip(grads, model.trainable_variables))\n",
        "        \n",
        "def render_policy_net(model, n_max_steps=200, seed=42):\n",
        "    frames = []\n",
        "    env = gym.make('MountainCar-v0')\n",
        "    env.seed(seed)\n",
        "    np.random.seed(seed)\n",
        "    obs = env.reset()\n",
        "    for step in range(n_max_steps):\n",
        "        frames.append(env.render(mode=\"rgb_array\"))\n",
        "        action = np.argmax(model.predict(obs[np.newaxis])[0])\n",
        "        obs, reward, done, info = env.step(action)\n",
        "        if done:\n",
        "            break\n",
        "    env.close()\n",
        "    return frames\n",
        "\n",
        "def update_scene(num, frames, patch):\n",
        "    patch.set_data(frames[num])\n",
        "    return patch,\n",
        "\n",
        "def plot_animation(frames, repeat=False, interval=40):\n",
        "    fig = plt.figure()\n",
        "    patch = plt.imshow(frames[0])\n",
        "    plt.axis('off')\n",
        "    anim = animation.FuncAnimation(\n",
        "        fig, update_scene, fargs=(frames, patch),\n",
        "        frames=len(frames), repeat=repeat, interval=interval)\n",
        "    plt.close()\n",
        "    return anim\n",
        "\n",
        "#frames = render_policy_net(model)\n",
        "#plot_animation(frames)\n",
        "\n",
        "best_score = 200\n",
        "episodes = 600 #2000\n",
        "env = gym.make('MountainCar-v0')\n",
        "state_size = env.observation_space.shape[0]\n",
        "action_size = env.action_space.n\n",
        "agent = DQNagent(state_size, action_size, episodes)\n",
        "model = agent.build_model()\n",
        "rewards = []\n",
        "\n",
        "for episode in range(episodes):\n",
        "    state = env.reset()    \n",
        "    for step in range(200):\n",
        "        epsilon = max(1 - episode/(episodes*0.8), 0.01) #epsilon take value between [0.1,1]\n",
        "        if np.random.rand() < epsilon: action = np.random.randint(action_size) # if random no. < epsilon, take random sample\n",
        "        else: action = np.argmax(model.predict(state[np.newaxis])[0]) # else take the best action\n",
        "        next_state, reward, done, info = env.step(action)\n",
        "        if next_state[0] - state[0] > 0 and action == 2: reward = 1 # if moved right & push right, reward +1\n",
        "        if next_state[0] - state[0] < 0 and action == 0: reward = 1 # if moved left & push left, reward +1       \n",
        "        agent.add_memory(state, action, reward, next_state, done)\n",
        "        state = next_state.copy()\n",
        "        if done:\n",
        "            break\n",
        "    rewards.append(step)\n",
        "    if step < best_score:\n",
        "        best_weights = model.get_weights()\n",
        "        best_score = step\n",
        "    \n",
        "    print(\"\\nEpisode: {}, Best Score: {}, eps: {:.3f}\".format(episode, best_score, epsilon), end=\"\") \n",
        "    \n",
        "    if episode in np.arange(0, episodes, 50): #plot the animation every 50 episodes\n",
        "        plot_animation(render_policy_net(model))\n",
        "    \n",
        "    if episode > 50:\n",
        "        agent.train_model(model)\n",
        "\n",
        "model.set_weights(best_weights)\n",
        "\n",
        "env.close()\n",
        "\n",
        "plt.figure(figsize=(8, 4))\n",
        "plt.plot(rewards)\n",
        "plt.xlabel(\"Episode\", fontsize=14)\n",
        "plt.ylabel(\"Score\", fontsize=14)\n",
        "plt.show()"
      ],
      "execution_count": null,
      "outputs": [
        {
          "output_type": "stream",
          "text": [
            "Episode: 599, Best Score: 104, eps: 0.010"
          ],
          "name": "stdout"
        },
        {
          "output_type": "display_data",
          "data": {
            "image/png": "[encoded data removed]",
            "text/plain": [
              "<Figure size 576x288 with 1 Axes>"
            ]
          },
          "metadata": {
            "tags": [],
            "needs_background": "light"
          }
        },
        {
          "output_type": "stream",
          "text": [
            "Wall time: 1h 52min 27s\n"
          ],
          "name": "stdout"
        }
      ]
    },
    {
      "cell_type": "code",
      "metadata": {
        "id": "Z8y-jaEUj9QZ"
      },
      "source": [
        "plot_animation(render_policy_net(model))"
      ],
      "execution_count": null,
      "outputs": []
    }
  ]
}